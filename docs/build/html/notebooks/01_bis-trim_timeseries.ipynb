{
 "cells": [
  {
   "attachments": {},
   "cell_type": "markdown",
   "id": "23474b2f",
   "metadata": {},
   "source": [
    "# Preprocessing Trimming"
   ]
  },
  {
   "cell_type": "code",
   "execution_count": 3,
   "id": "a066de45",
   "metadata": {},
   "outputs": [],
   "source": [
    "# Import libraries\n",
    "import os, glob, io, pickle,random\n",
    "import numpy as np\n",
    "import pandas as pd\n",
    "import matplotlib.pyplot as plt\n",
    "from tqdm import tqdm"
   ]
  },
  {
   "attachments": {},
   "cell_type": "markdown",
   "id": "49f8b09c",
   "metadata": {},
   "source": [
    "#### Functionals specific to current notebook"
   ]
  },
  {
   "cell_type": "code",
   "execution_count": 1,
   "id": "9e6a94e5",
   "metadata": {},
   "outputs": [],
   "source": [
    "### Functions to load and dump existing structure from/to files\n",
    "### Source: MIPLab \n",
    "def load_file(current_path,filename):\n",
    "    \"\"\"\n",
    "    desc: load file by pickling\n",
    "    \"\"\"\n",
    "\n",
    "    print(\"Loading the file: \",filename)\n",
    "\n",
    "    with open(current_path+filename,'rb') as pickle_file:\n",
    "        cfile=pickle.load(pickle_file)\n",
    "    return(cfile)\n",
    "\n",
    "def dump_file(current_path,filename,data_structure):\n",
    "    \"\"\"\n",
    "    desc: save file by dumping in pkl format or returning if unsaved/unsave-able\n",
    "    \"\"\"\n",
    "\n",
    "    if os.path.isfile(current_path+filename) and os.access(current_path, os.R_OK):\n",
    "        # checks if file exists\n",
    "        print (\"File exists and is readable\")\n",
    "        current_file=load_file(current_path,filename)\n",
    "        return(current_file)\n",
    "    else:\n",
    "        if data_structure == [] or data_structure == {}:\n",
    "            return data_structure\n",
    "        else:\n",
    "            print (\"Either file is missing or is not readable, creating file...\")\n",
    "            with open(current_path+filename, 'wb') as outfile:\n",
    "                pickle.dump(data_structure, outfile)\n",
    "            return(1)\n"
   ]
  },
  {
   "attachments": {},
   "cell_type": "markdown",
   "id": "f21ab2be",
   "metadata": {},
   "source": [
    "## Description\n",
    "\n",
    "We preprocess timeseries by removing frames that have too large frame displacement values. \n",
    "\n",
    "GOAL: Generate timeseries preprocessed"
   ]
  },
  {
   "attachments": {},
   "cell_type": "markdown",
   "id": "7562172f",
   "metadata": {},
   "source": [
    "## Table of Contents\n",
    "- [Preprocessing by frame displacement](#preproc)"
   ]
  },
  {
   "attachments": {},
   "cell_type": "markdown",
   "id": "1e171238",
   "metadata": {},
   "source": [
    "<a class=\"anchor\" id=\"preproc\"></a>\n",
    "### Preprocessing by frame displacement"
   ]
  },
  {
   "cell_type": "code",
   "execution_count": 5,
   "id": "662fd634",
   "metadata": {},
   "outputs": [],
   "source": [
    "# Loading the length of each movie in a dictionary\n",
    "\n",
    "filepath_films='./data/emoFiles/emo/*csv'\n",
    "films_data_length={}\n",
    "for index, film_label in enumerate(glob.glob(filepath_films)):\n",
    "    if 'All_Annotations' not in film_label and 'labels' not in film_label \\\n",
    "    and 'AnnotationWeights' not in film_label and 'WeightedAnnotations' not in film_label:\n",
    "        filmID=film_label.strip().split('/')[-1].split('.')[0][:-2]\n",
    "        current_length=len(np.loadtxt(film_label))\n",
    "        films_data_length[str(filmID.split('_')[1])]=current_length"
   ]
  },
  {
   "cell_type": "code",
   "execution_count": 34,
   "id": "717c162b",
   "metadata": {},
   "outputs": [
    {
     "name": "stderr",
     "output_type": "stream",
     "text": [
      "100%|██████████| 450/450 [00:30<00:00, 14.94it/s]\n"
     ]
    }
   ],
   "source": [
    "# Loading the fMRI data for all the movies\n",
    "\n",
    "EmoResponse            = 3    \n",
    "filepath_movies        = './data/fMRIFiles/TCFiles/TC_400_*'\n",
    "filepath_motion_scores = './data/fMRIFiles/MCFiles/prefiltered_func_data_mcf_rel_'\n",
    "remove_motion          = True\n",
    "motion_thresh          = 0.5\n",
    "\n",
    "data_subject_movies       = {}\n",
    "frame_displacement_movies = {}\n",
    "\n",
    "##Loading movie data\n",
    "for index,current_fp in enumerate(tqdm(sorted(glob.glob(filepath_movies)))):\n",
    "    if 'Rest' not in current_fp:\n",
    "        subjID    = current_fp.strip().split('/')[-1].split('_')[2]\n",
    "        sessionID = current_fp.strip().split('/')[-1].split('_')[3]\n",
    "        movieID   = current_fp.strip().split('/')[-1].split('_')[-1].split('.')[0]\n",
    "\n",
    "        if subjID not in data_subject_movies:\n",
    "            data_subject_movies[subjID]       = {}\n",
    "        if subjID not in frame_displacement_movies:\n",
    "            frame_displacement_movies[subjID] = {}\n",
    "        ## Loading the data and removing the first and last part of the recordings ( 72 TR + EmoResponse)\n",
    "        ## (rest before and after each movie)\n",
    "        #print(index,current_fp,subjID,movieID,films_data_length[movieID])\n",
    "\n",
    "        c_movie_loaded = np.loadtxt(current_fp,delimiter=',')\n",
    "        # temporary_data=c_movie_loaded[(72+EmoResponse):(72+EmoResponse)+films_data_length[movieID],:]    \n",
    "        ### NOTE MICHAEL: WE KEEP THE WASHER \n",
    "        temporary_data = c_movie_loaded    \n",
    "        \n",
    "        if remove_motion == True:\n",
    "            ## Opening the motion scores\n",
    "            motion_path = filepath_motion_scores+subjID+\"_\"+sessionID+\"_\"+movieID+\".csv\"\n",
    "\n",
    "            ## File with frame displacement\n",
    "            # fd_file     = np.loadtxt(motion_path)[(72+EmoResponse+1):(72+EmoResponse)+films_data_length[movieID]+1]\n",
    "            fd_file     = np.concatenate([np.loadtxt(motion_path)[1:],[0,0]])\n",
    "            # fd_file     = np.loadtxt(motion_path)\n",
    "\n",
    "            ##Find the indexes where motion is lower than threshold\n",
    "            indexes_no_motion   = np.where(fd_file<motion_thresh)[0]\n",
    "            ##Find the indexes where motion is greater or equal than threshold\n",
    "            indexes_with_motion = np.where(fd_file>=motion_thresh)[0]\n",
    "\n",
    "            ## Set to NaN values that are with motion\n",
    "            temporary_data[indexes_with_motion,:]      = np.nan\n",
    "            ## For each subject and each movie, save the info about number of frames with no motion,\n",
    "            ##motion, and the percentage of motion in a list \n",
    "            frame_displacement_movies[subjID][movieID] = [len(indexes_no_motion),len(indexes_with_motion),\n",
    "                                 len(indexes_with_motion)/(len(indexes_with_motion)+len(indexes_no_motion)), len(fd_file)]\n",
    "\n",
    "            data_subject_movies[subjID][movieID] = temporary_data\n",
    "        else:\n",
    "            data_subject_movies[subjID][movieID] = temporary_data"
   ]
  },
  {
   "cell_type": "code",
   "execution_count": 8,
   "id": "7a2f08f0",
   "metadata": {},
   "outputs": [],
   "source": [
    "outpath = './data/fMRIFiles/TRFiles/'\n",
    "\n",
    "# Saving the np.nan added data\n",
    "for sub in data_subject_movies.keys():\n",
    "    for mov in data_subject_movies[sub].keys():\n",
    "        outname = outpath+'TC_400_{}_ses-1_{}.csv'.format(sub,mov)\n",
    "        array   = data_subject_movies[sub][mov]\n",
    "        np.savetxt(outname, array, delimiter=\",\")"
   ]
  },
  {
   "cell_type": "code",
   "execution_count": 20,
   "id": "12bdb81d",
   "metadata": {},
   "outputs": [
    {
     "data": {
      "text/plain": [
       "(250.0, 300.0)"
      ]
     },
     "execution_count": 20,
     "metadata": {},
     "output_type": "execute_result"
    },
    {
     "data": {
      "image/png": "[encoded data removed]",
      "text/plain": [
       "<Figure size 640x480 with 1 Axes>"
      ]
     },
     "metadata": {},
     "output_type": "display_data"
    }
   ],
   "source": [
    "# Example of timeseries with nan replaced\n",
    "plt.plot(data_subject_movies['sub-S01']['BigBuckBunny'][:,0])\n",
    "plt.xlim(250,300)"
   ]
  }
 ],
 "metadata": {
  "kernelspec": {
   "display_name": "Python 3",
   "language": "python",
   "name": "python3"
  },
  "language_info": {
   "codemirror_mode": {
    "name": "ipython",
    "version": 3
   },
   "file_extension": ".py",
   "mimetype": "text/x-python",
   "name": "python",
   "nbconvert_exporter": "python",
   "pygments_lexer": "ipython3",
   "version": "3.9.16"
  },
  "vscode": {
   "interpreter": {
    "hash": "a665b5d41d17b532ea9890333293a1b812fa0b73c9c25c950b3cedf1bebd0438"
   }
  }
 },
 "nbformat": 4,
 "nbformat_minor": 5
}
